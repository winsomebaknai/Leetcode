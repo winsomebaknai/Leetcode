{
  "nbformat": 4,
  "nbformat_minor": 0,
  "metadata": {
    "colab": {
      "provenance": []
    },
    "kernelspec": {
      "name": "python3",
      "display_name": "Python 3"
    },
    "language_info": {
      "name": "python"
    }
  },
  "cells": [
    {
      "cell_type": "code",
      "execution_count": null,
      "metadata": {
        "id": "eKJ5CbrcMDTI"
      },
      "outputs": [],
      "source": [
        "# 605. Can Place Flowers\n",
        "# You have a long flowerbed in which some of the plots are planted, and some are not. However, flowers cannot be planted in adjacent plots.\n",
        "# Given an integer array flowerbed containing 0's and 1's, where 0 means empty and 1 means not empty, and an integer n,\n",
        "# return true if n new flowers can be planted in the flowerbed without violating the no-adjacent-flowers rule and false otherwise.\n",
        "\n",
        "# Example 1:\n",
        "# Input: flowerbed = [1,0,0,0,1], n = 1\n",
        "# Output: true\n",
        "\n",
        "# Example 2:\n",
        "# Input: flowerbed = [1,0,0,0,1], n = 2\n",
        "# Output: false\n",
        "\n",
        "# Python, Code:-\n",
        "\n",
        "class Solution:\n",
        "    def canPlaceFlowers(self, flowerbed: List[int], n: int) -> bool:\n",
        "        length = len(flowerbed)\n",
        "\n",
        "        for i in range(length):\n",
        "            if flowerbed[i] == 0:\n",
        "                prev = (i == 0) or (flowerbed[i - 1] == 0)\n",
        "                nex = (i == length - 1) or (flowerbed[i + 1] == 0)\n",
        "\n",
        "                if prev and nex:\n",
        "                    flowerbed[i] = 1\n",
        "                    n -= 1\n",
        "                    if n == 0:\n",
        "                        return True\n",
        "\n",
        "        return n <= 0"
      ]
    }
  ]
}